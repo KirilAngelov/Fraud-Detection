{
 "cells": [
  {
   "cell_type": "markdown",
   "id": "befaf819-34d8-44bd-94f9-226973e8de6c",
   "metadata": {},
   "source": [
    "# Fraud detection"
   ]
  },
  {
   "cell_type": "markdown",
   "id": "0006ee8c-e010-4189-bea0-4b4927da64a5",
   "metadata": {},
   "source": [
    "In general fraud detection can be seen as a way to detect if an action/data is different from predefined actions/dataset. We can also call it an anomaly. Detecting anomalies has different scenarios, for example in the web we can store user data, ip adress data, web history data and decide if a certain action is not normal."
   ]
  },
  {
   "cell_type": "markdown",
   "id": "c5c78ef0-9fd4-46ae-92c0-93ea1bd4bdd1",
   "metadata": {},
   "source": [
    "1. An anomaly can be seen as data that deviates subtantially from the norm.\n",
    "2. Anomaly detection is the process of identifying rare observasions which differ substantially from the majority of the data from where they are drawn\n",
    "3. Applications include intrusion detection, fault detection and others"
   ]
  },
  {
   "cell_type": "markdown",
   "id": "185091a2-0708-4565-990d-61b07ee4139e",
   "metadata": {},
   "source": [
    "### Example\n",
    "\n",
    "Let's assume a single array containing a disstribution of IQ scores within a given population."
   ]
  },
  {
   "cell_type": "code",
   "execution_count": 1,
   "id": "12b154fa-1e54-4c22-a1c9-dac9308f5d2b",
   "metadata": {
    "execution": {
     "iopub.execute_input": "2023-10-14T13:06:38.601197Z",
     "iopub.status.busy": "2023-10-14T13:06:38.599180Z",
     "iopub.status.idle": "2023-10-14T13:06:39.744205Z",
     "shell.execute_reply": "2023-10-14T13:06:39.740101Z",
     "shell.execute_reply.started": "2023-10-14T13:06:38.600279Z"
    },
    "tags": []
   },
   "outputs": [],
   "source": [
    "import numpy as np\n",
    "import matplotlib.pyplot as plt"
   ]
  },
  {
   "cell_type": "code",
   "execution_count": 2,
   "id": "893d7824-6a3a-424c-9935-a774d8fc0185",
   "metadata": {
    "execution": {
     "iopub.execute_input": "2023-10-14T13:06:39.761763Z",
     "iopub.status.busy": "2023-10-14T13:06:39.760765Z",
     "iopub.status.idle": "2023-10-14T13:06:39.816596Z",
     "shell.execute_reply": "2023-10-14T13:06:39.800553Z",
     "shell.execute_reply.started": "2023-10-14T13:06:39.761763Z"
    },
    "tags": []
   },
   "outputs": [],
   "source": [
    "mean_value, standard_deviation = 100, 10\n",
    "arr = np.random.normal(loc = mean_value, scale = standard_deviation, size = 1000)"
   ]
  },
  {
   "cell_type": "markdown",
   "id": "5f1a1bc2-9904-489e-8ea5-020af9b10578",
   "metadata": {},
   "source": [
    "If we were to look for outliers, we would look at the data that is in either ends of the distribution."
   ]
  },
  {
   "cell_type": "code",
   "execution_count": 3,
   "id": "42f5e1da-accc-49f7-99d2-71ba8a68fff1",
   "metadata": {
    "execution": {
     "iopub.execute_input": "2023-10-14T13:06:39.833596Z",
     "iopub.status.busy": "2023-10-14T13:06:39.831596Z",
     "iopub.status.idle": "2023-10-14T13:06:40.192031Z",
     "shell.execute_reply": "2023-10-14T13:06:40.190928Z",
     "shell.execute_reply.started": "2023-10-14T13:06:39.833596Z"
    }
   },
   "outputs": [
    {
     "data": {
      "image/png": "[encoded data removed]",
      "text/plain": [
       "<Figure size 432x288 with 1 Axes>"
      ]
     },
     "metadata": {
      "needs_background": "light"
     },
     "output_type": "display_data"
    }
   ],
   "source": [
    "plt.hist(arr, bins = 40)\n",
    "plt.show()"
   ]
  },
  {
   "cell_type": "markdown",
   "id": "bff41d73-3578-402c-a68e-904734203f3e",
   "metadata": {},
   "source": [
    "* Fraud detection is the process of detecting nomalous financial records from within a broader set of normal transactions.\n",
    "* The data is typically tabular in nature i.e. data sets with rows and columns\n",
    "* It is important to have access to historical instances of confurmed fraudulent behaviour i.e. labels or target variable, whici are ofteh issued by a bank ot hird party\n",
    "* Because fraud by definition is less frequent than normal behaviour within a financial services ecosydtem, there will be far less confirmed historical instances of fraudulent behaviour compared with the known good/normal behavior, leading to an imbalance between the fraudulent and non-fraudulent samples\n",
    "* Feature engineering is crucial, as it involves converting domain knowledge from fraud analysts and investigators into data that can be used to detect suspicious behaviours\n",
    "* The features/data is aggregated at the customer-level, or at the transactional-level, depending on the use-case.\n",
    "* Network data i.e how users within a system are connected to another is normally a strong indicator  of fraudulent behaviour."
   ]
  },
  {
   "cell_type": "markdown",
   "id": "65727070-ed29-403e-be25-fecde05afe77",
   "metadata": {},
   "source": [
    "## Exploring the Credit Card Fraud Dataset\n",
    "This dataset is widely popular and we can find it in Kaggle.\n",
    "\n",
    "https://www.kaggle.com/datasets/mlg-ulb/creditcardfraud\n",
    "\n",
    "Another thing for this dataset is that we have a lot of features named V1 to V28, all these features are produced by applying PCA to a bigger dataset. The disadvantage here is we lose the interpretability of our dataset, this means we do not know what V1 or V16 mean. We only know they are proven to be useful in detecting which transactions are fraudulent."
   ]
  },
  {
   "cell_type": "code",
   "execution_count": 45,
   "id": "a1fce6d0-6c3a-47b4-a17b-68cb60b03049",
   "metadata": {
    "execution": {
     "iopub.execute_input": "2023-10-14T13:30:46.010054Z",
     "iopub.status.busy": "2023-10-14T13:30:46.010054Z",
     "iopub.status.idle": "2023-10-14T13:30:46.023049Z",
     "shell.execute_reply": "2023-10-14T13:30:46.021486Z",
     "shell.execute_reply.started": "2023-10-14T13:30:46.010054Z"
    },
    "tags": []
   },
   "outputs": [],
   "source": [
    "import pandas as pd"
   ]
  },
  {
   "cell_type": "code",
   "execution_count": 46,
   "id": "7b8b93ae-3e89-4e7c-a630-e2955b0e3e09",
   "metadata": {
    "execution": {
     "iopub.execute_input": "2023-10-14T13:30:46.452255Z",
     "iopub.status.busy": "2023-10-14T13:30:46.451256Z",
     "iopub.status.idle": "2023-10-14T13:30:53.052011Z",
     "shell.execute_reply": "2023-10-14T13:30:53.048521Z",
     "shell.execute_reply.started": "2023-10-14T13:30:46.452255Z"
    },
    "tags": []
   },
   "outputs": [
    {
     "data": {
      "text/html": [
       "<div>\n",
       "<style scoped>\n",
       "    .dataframe tbody tr th:only-of-type {\n",
       "        vertical-align: middle;\n",
       "    }\n",
       "\n",
       "    .dataframe tbody tr th {\n",
       "        vertical-align: top;\n",
       "    }\n",
       "\n",
       "    .dataframe thead th {\n",
       "        text-align: right;\n",
       "    }\n",
       "</style>\n",
       "<table border=\"1\" class=\"dataframe\">\n",
       "  <thead>\n",
       "    <tr style=\"text-align: right;\">\n",
       "      <th></th>\n",
       "      <th>Time</th>\n",
       "      <th>V1</th>\n",
       "      <th>V2</th>\n",
       "      <th>V3</th>\n",
       "      <th>V4</th>\n",
       "      <th>V5</th>\n",
       "      <th>V6</th>\n",
       "      <th>V7</th>\n",
       "      <th>V8</th>\n",
       "      <th>V9</th>\n",
       "      <th>...</th>\n",
       "      <th>V21</th>\n",
       "      <th>V22</th>\n",
       "      <th>V23</th>\n",
       "      <th>V24</th>\n",
       "      <th>V25</th>\n",
       "      <th>V26</th>\n",
       "      <th>V27</th>\n",
       "      <th>V28</th>\n",
       "      <th>Amount</th>\n",
       "      <th>Class</th>\n",
       "    </tr>\n",
       "  </thead>\n",
       "  <tbody>\n",
       "    <tr>\n",
       "      <th>0</th>\n",
       "      <td>0.0</td>\n",
       "      <td>-1.359807</td>\n",
       "      <td>-0.072781</td>\n",
       "      <td>2.536347</td>\n",
       "      <td>1.378155</td>\n",
       "      <td>-0.338321</td>\n",
       "      <td>0.462388</td>\n",
       "      <td>0.239599</td>\n",
       "      <td>0.098698</td>\n",
       "      <td>0.363787</td>\n",
       "      <td>...</td>\n",
       "      <td>-0.018307</td>\n",
       "      <td>0.277838</td>\n",
       "      <td>-0.110474</td>\n",
       "      <td>0.066928</td>\n",
       "      <td>0.128539</td>\n",
       "      <td>-0.189115</td>\n",
       "      <td>0.133558</td>\n",
       "      <td>-0.021053</td>\n",
       "      <td>149.62</td>\n",
       "      <td>0</td>\n",
       "    </tr>\n",
       "    <tr>\n",
       "      <th>1</th>\n",
       "      <td>0.0</td>\n",
       "      <td>1.191857</td>\n",
       "      <td>0.266151</td>\n",
       "      <td>0.166480</td>\n",
       "      <td>0.448154</td>\n",
       "      <td>0.060018</td>\n",
       "      <td>-0.082361</td>\n",
       "      <td>-0.078803</td>\n",
       "      <td>0.085102</td>\n",
       "      <td>-0.255425</td>\n",
       "      <td>...</td>\n",
       "      <td>-0.225775</td>\n",
       "      <td>-0.638672</td>\n",
       "      <td>0.101288</td>\n",
       "      <td>-0.339846</td>\n",
       "      <td>0.167170</td>\n",
       "      <td>0.125895</td>\n",
       "      <td>-0.008983</td>\n",
       "      <td>0.014724</td>\n",
       "      <td>2.69</td>\n",
       "      <td>0</td>\n",
       "    </tr>\n",
       "    <tr>\n",
       "      <th>2</th>\n",
       "      <td>1.0</td>\n",
       "      <td>-1.358354</td>\n",
       "      <td>-1.340163</td>\n",
       "      <td>1.773209</td>\n",
       "      <td>0.379780</td>\n",
       "      <td>-0.503198</td>\n",
       "      <td>1.800499</td>\n",
       "      <td>0.791461</td>\n",
       "      <td>0.247676</td>\n",
       "      <td>-1.514654</td>\n",
       "      <td>...</td>\n",
       "      <td>0.247998</td>\n",
       "      <td>0.771679</td>\n",
       "      <td>0.909412</td>\n",
       "      <td>-0.689281</td>\n",
       "      <td>-0.327642</td>\n",
       "      <td>-0.139097</td>\n",
       "      <td>-0.055353</td>\n",
       "      <td>-0.059752</td>\n",
       "      <td>378.66</td>\n",
       "      <td>0</td>\n",
       "    </tr>\n",
       "    <tr>\n",
       "      <th>3</th>\n",
       "      <td>1.0</td>\n",
       "      <td>-0.966272</td>\n",
       "      <td>-0.185226</td>\n",
       "      <td>1.792993</td>\n",
       "      <td>-0.863291</td>\n",
       "      <td>-0.010309</td>\n",
       "      <td>1.247203</td>\n",
       "      <td>0.237609</td>\n",
       "      <td>0.377436</td>\n",
       "      <td>-1.387024</td>\n",
       "      <td>...</td>\n",
       "      <td>-0.108300</td>\n",
       "      <td>0.005274</td>\n",
       "      <td>-0.190321</td>\n",
       "      <td>-1.175575</td>\n",
       "      <td>0.647376</td>\n",
       "      <td>-0.221929</td>\n",
       "      <td>0.062723</td>\n",
       "      <td>0.061458</td>\n",
       "      <td>123.50</td>\n",
       "      <td>0</td>\n",
       "    </tr>\n",
       "    <tr>\n",
       "      <th>4</th>\n",
       "      <td>2.0</td>\n",
       "      <td>-1.158233</td>\n",
       "      <td>0.877737</td>\n",
       "      <td>1.548718</td>\n",
       "      <td>0.403034</td>\n",
       "      <td>-0.407193</td>\n",
       "      <td>0.095921</td>\n",
       "      <td>0.592941</td>\n",
       "      <td>-0.270533</td>\n",
       "      <td>0.817739</td>\n",
       "      <td>...</td>\n",
       "      <td>-0.009431</td>\n",
       "      <td>0.798278</td>\n",
       "      <td>-0.137458</td>\n",
       "      <td>0.141267</td>\n",
       "      <td>-0.206010</td>\n",
       "      <td>0.502292</td>\n",
       "      <td>0.219422</td>\n",
       "      <td>0.215153</td>\n",
       "      <td>69.99</td>\n",
       "      <td>0</td>\n",
       "    </tr>\n",
       "  </tbody>\n",
       "</table>\n",
       "<p>5 rows × 31 columns</p>\n",
       "</div>"
      ],
      "text/plain": [
       "   Time        V1        V2        V3        V4        V5        V6        V7  \\\n",
       "0   0.0 -1.359807 -0.072781  2.536347  1.378155 -0.338321  0.462388  0.239599   \n",
       "1   0.0  1.191857  0.266151  0.166480  0.448154  0.060018 -0.082361 -0.078803   \n",
       "2   1.0 -1.358354 -1.340163  1.773209  0.379780 -0.503198  1.800499  0.791461   \n",
       "3   1.0 -0.966272 -0.185226  1.792993 -0.863291 -0.010309  1.247203  0.237609   \n",
       "4   2.0 -1.158233  0.877737  1.548718  0.403034 -0.407193  0.095921  0.592941   \n",
       "\n",
       "         V8        V9  ...       V21       V22       V23       V24       V25  \\\n",
       "0  0.098698  0.363787  ... -0.018307  0.277838 -0.110474  0.066928  0.128539   \n",
       "1  0.085102 -0.255425  ... -0.225775 -0.638672  0.101288 -0.339846  0.167170   \n",
       "2  0.247676 -1.514654  ...  0.247998  0.771679  0.909412 -0.689281 -0.327642   \n",
       "3  0.377436 -1.387024  ... -0.108300  0.005274 -0.190321 -1.175575  0.647376   \n",
       "4 -0.270533  0.817739  ... -0.009431  0.798278 -0.137458  0.141267 -0.206010   \n",
       "\n",
       "        V26       V27       V28  Amount  Class  \n",
       "0 -0.189115  0.133558 -0.021053  149.62      0  \n",
       "1  0.125895 -0.008983  0.014724    2.69      0  \n",
       "2 -0.139097 -0.055353 -0.059752  378.66      0  \n",
       "3 -0.221929  0.062723  0.061458  123.50      0  \n",
       "4  0.502292  0.219422  0.215153   69.99      0  \n",
       "\n",
       "[5 rows x 31 columns]"
      ]
     },
     "execution_count": 46,
     "metadata": {},
     "output_type": "execute_result"
    }
   ],
   "source": [
    "df = pd.read_csv(\"data/creditcard.csv\")\n",
    "df.head()"
   ]
  },
  {
   "cell_type": "markdown",
   "id": "a3152b77-f4cb-4076-84ba-d25148988a3f",
   "metadata": {},
   "source": [
    "Let's reorder the columns, so that the interpratable ones are in the middle."
   ]
  },
  {
   "cell_type": "code",
   "execution_count": 49,
   "id": "bfbfd537-d01c-4c1b-990f-2e0c67e51ec5",
   "metadata": {
    "execution": {
     "iopub.execute_input": "2023-10-14T13:31:32.334990Z",
     "iopub.status.busy": "2023-10-14T13:31:32.333989Z",
     "iopub.status.idle": "2023-10-14T13:31:32.382089Z",
     "shell.execute_reply": "2023-10-14T13:31:32.380129Z",
     "shell.execute_reply.started": "2023-10-14T13:31:32.334990Z"
    },
    "tags": []
   },
   "outputs": [],
   "source": [
    "nums = np.arange(1, 29, 1)\n",
    "chars = np.char.asarray([str(x) for x in nums])\n",
    "chars = 'V' + chars\n",
    "chars = [''.join(ch) for ch in chars]\n",
    "columns = ['Class', 'Amount', 'Time']\n",
    "columns = columns + chars\n",
    "df = df[columns]"
   ]
  },
  {
   "cell_type": "code",
   "execution_count": 50,
   "id": "3500ed7b-a477-4169-9eaf-1cc2e2cc3d53",
   "metadata": {
    "execution": {
     "iopub.execute_input": "2023-10-14T13:31:34.582452Z",
     "iopub.status.busy": "2023-10-14T13:31:34.581454Z",
     "iopub.status.idle": "2023-10-14T13:31:34.764609Z",
     "shell.execute_reply": "2023-10-14T13:31:34.762558Z",
     "shell.execute_reply.started": "2023-10-14T13:31:34.582452Z"
    }
   },
   "outputs": [
    {
     "data": {
      "text/html": [
       "<div>\n",
       "<style scoped>\n",
       "    .dataframe tbody tr th:only-of-type {\n",
       "        vertical-align: middle;\n",
       "    }\n",
       "\n",
       "    .dataframe tbody tr th {\n",
       "        vertical-align: top;\n",
       "    }\n",
       "\n",
       "    .dataframe thead th {\n",
       "        text-align: right;\n",
       "    }\n",
       "</style>\n",
       "<table border=\"1\" class=\"dataframe\">\n",
       "  <thead>\n",
       "    <tr style=\"text-align: right;\">\n",
       "      <th></th>\n",
       "      <th>Class</th>\n",
       "      <th>Amount</th>\n",
       "      <th>Time</th>\n",
       "      <th>V1</th>\n",
       "      <th>V2</th>\n",
       "      <th>V3</th>\n",
       "      <th>V4</th>\n",
       "      <th>V5</th>\n",
       "      <th>V6</th>\n",
       "      <th>V7</th>\n",
       "      <th>...</th>\n",
       "      <th>V19</th>\n",
       "      <th>V20</th>\n",
       "      <th>V21</th>\n",
       "      <th>V22</th>\n",
       "      <th>V23</th>\n",
       "      <th>V24</th>\n",
       "      <th>V25</th>\n",
       "      <th>V26</th>\n",
       "      <th>V27</th>\n",
       "      <th>V28</th>\n",
       "    </tr>\n",
       "  </thead>\n",
       "  <tbody>\n",
       "    <tr>\n",
       "      <th>0</th>\n",
       "      <td>0</td>\n",
       "      <td>149.62</td>\n",
       "      <td>0.0</td>\n",
       "      <td>-1.359807</td>\n",
       "      <td>-0.072781</td>\n",
       "      <td>2.536347</td>\n",
       "      <td>1.378155</td>\n",
       "      <td>-0.338321</td>\n",
       "      <td>0.462388</td>\n",
       "      <td>0.239599</td>\n",
       "      <td>...</td>\n",
       "      <td>0.403993</td>\n",
       "      <td>0.251412</td>\n",
       "      <td>-0.018307</td>\n",
       "      <td>0.277838</td>\n",
       "      <td>-0.110474</td>\n",
       "      <td>0.066928</td>\n",
       "      <td>0.128539</td>\n",
       "      <td>-0.189115</td>\n",
       "      <td>0.133558</td>\n",
       "      <td>-0.021053</td>\n",
       "    </tr>\n",
       "    <tr>\n",
       "      <th>1</th>\n",
       "      <td>0</td>\n",
       "      <td>2.69</td>\n",
       "      <td>0.0</td>\n",
       "      <td>1.191857</td>\n",
       "      <td>0.266151</td>\n",
       "      <td>0.166480</td>\n",
       "      <td>0.448154</td>\n",
       "      <td>0.060018</td>\n",
       "      <td>-0.082361</td>\n",
       "      <td>-0.078803</td>\n",
       "      <td>...</td>\n",
       "      <td>-0.145783</td>\n",
       "      <td>-0.069083</td>\n",
       "      <td>-0.225775</td>\n",
       "      <td>-0.638672</td>\n",
       "      <td>0.101288</td>\n",
       "      <td>-0.339846</td>\n",
       "      <td>0.167170</td>\n",
       "      <td>0.125895</td>\n",
       "      <td>-0.008983</td>\n",
       "      <td>0.014724</td>\n",
       "    </tr>\n",
       "    <tr>\n",
       "      <th>2</th>\n",
       "      <td>0</td>\n",
       "      <td>378.66</td>\n",
       "      <td>1.0</td>\n",
       "      <td>-1.358354</td>\n",
       "      <td>-1.340163</td>\n",
       "      <td>1.773209</td>\n",
       "      <td>0.379780</td>\n",
       "      <td>-0.503198</td>\n",
       "      <td>1.800499</td>\n",
       "      <td>0.791461</td>\n",
       "      <td>...</td>\n",
       "      <td>-2.261857</td>\n",
       "      <td>0.524980</td>\n",
       "      <td>0.247998</td>\n",
       "      <td>0.771679</td>\n",
       "      <td>0.909412</td>\n",
       "      <td>-0.689281</td>\n",
       "      <td>-0.327642</td>\n",
       "      <td>-0.139097</td>\n",
       "      <td>-0.055353</td>\n",
       "      <td>-0.059752</td>\n",
       "    </tr>\n",
       "    <tr>\n",
       "      <th>3</th>\n",
       "      <td>0</td>\n",
       "      <td>123.50</td>\n",
       "      <td>1.0</td>\n",
       "      <td>-0.966272</td>\n",
       "      <td>-0.185226</td>\n",
       "      <td>1.792993</td>\n",
       "      <td>-0.863291</td>\n",
       "      <td>-0.010309</td>\n",
       "      <td>1.247203</td>\n",
       "      <td>0.237609</td>\n",
       "      <td>...</td>\n",
       "      <td>-1.232622</td>\n",
       "      <td>-0.208038</td>\n",
       "      <td>-0.108300</td>\n",
       "      <td>0.005274</td>\n",
       "      <td>-0.190321</td>\n",
       "      <td>-1.175575</td>\n",
       "      <td>0.647376</td>\n",
       "      <td>-0.221929</td>\n",
       "      <td>0.062723</td>\n",
       "      <td>0.061458</td>\n",
       "    </tr>\n",
       "    <tr>\n",
       "      <th>4</th>\n",
       "      <td>0</td>\n",
       "      <td>69.99</td>\n",
       "      <td>2.0</td>\n",
       "      <td>-1.158233</td>\n",
       "      <td>0.877737</td>\n",
       "      <td>1.548718</td>\n",
       "      <td>0.403034</td>\n",
       "      <td>-0.407193</td>\n",
       "      <td>0.095921</td>\n",
       "      <td>0.592941</td>\n",
       "      <td>...</td>\n",
       "      <td>0.803487</td>\n",
       "      <td>0.408542</td>\n",
       "      <td>-0.009431</td>\n",
       "      <td>0.798278</td>\n",
       "      <td>-0.137458</td>\n",
       "      <td>0.141267</td>\n",
       "      <td>-0.206010</td>\n",
       "      <td>0.502292</td>\n",
       "      <td>0.219422</td>\n",
       "      <td>0.215153</td>\n",
       "    </tr>\n",
       "    <tr>\n",
       "      <th>...</th>\n",
       "      <td>...</td>\n",
       "      <td>...</td>\n",
       "      <td>...</td>\n",
       "      <td>...</td>\n",
       "      <td>...</td>\n",
       "      <td>...</td>\n",
       "      <td>...</td>\n",
       "      <td>...</td>\n",
       "      <td>...</td>\n",
       "      <td>...</td>\n",
       "      <td>...</td>\n",
       "      <td>...</td>\n",
       "      <td>...</td>\n",
       "      <td>...</td>\n",
       "      <td>...</td>\n",
       "      <td>...</td>\n",
       "      <td>...</td>\n",
       "      <td>...</td>\n",
       "      <td>...</td>\n",
       "      <td>...</td>\n",
       "      <td>...</td>\n",
       "    </tr>\n",
       "    <tr>\n",
       "      <th>284802</th>\n",
       "      <td>0</td>\n",
       "      <td>0.77</td>\n",
       "      <td>172786.0</td>\n",
       "      <td>-11.881118</td>\n",
       "      <td>10.071785</td>\n",
       "      <td>-9.834783</td>\n",
       "      <td>-2.066656</td>\n",
       "      <td>-5.364473</td>\n",
       "      <td>-2.606837</td>\n",
       "      <td>-4.918215</td>\n",
       "      <td>...</td>\n",
       "      <td>-0.682920</td>\n",
       "      <td>1.475829</td>\n",
       "      <td>0.213454</td>\n",
       "      <td>0.111864</td>\n",
       "      <td>1.014480</td>\n",
       "      <td>-0.509348</td>\n",
       "      <td>1.436807</td>\n",
       "      <td>0.250034</td>\n",
       "      <td>0.943651</td>\n",
       "      <td>0.823731</td>\n",
       "    </tr>\n",
       "    <tr>\n",
       "      <th>284803</th>\n",
       "      <td>0</td>\n",
       "      <td>24.79</td>\n",
       "      <td>172787.0</td>\n",
       "      <td>-0.732789</td>\n",
       "      <td>-0.055080</td>\n",
       "      <td>2.035030</td>\n",
       "      <td>-0.738589</td>\n",
       "      <td>0.868229</td>\n",
       "      <td>1.058415</td>\n",
       "      <td>0.024330</td>\n",
       "      <td>...</td>\n",
       "      <td>-1.545556</td>\n",
       "      <td>0.059616</td>\n",
       "      <td>0.214205</td>\n",
       "      <td>0.924384</td>\n",
       "      <td>0.012463</td>\n",
       "      <td>-1.016226</td>\n",
       "      <td>-0.606624</td>\n",
       "      <td>-0.395255</td>\n",
       "      <td>0.068472</td>\n",
       "      <td>-0.053527</td>\n",
       "    </tr>\n",
       "    <tr>\n",
       "      <th>284804</th>\n",
       "      <td>0</td>\n",
       "      <td>67.88</td>\n",
       "      <td>172788.0</td>\n",
       "      <td>1.919565</td>\n",
       "      <td>-0.301254</td>\n",
       "      <td>-3.249640</td>\n",
       "      <td>-0.557828</td>\n",
       "      <td>2.630515</td>\n",
       "      <td>3.031260</td>\n",
       "      <td>-0.296827</td>\n",
       "      <td>...</td>\n",
       "      <td>-0.577252</td>\n",
       "      <td>0.001396</td>\n",
       "      <td>0.232045</td>\n",
       "      <td>0.578229</td>\n",
       "      <td>-0.037501</td>\n",
       "      <td>0.640134</td>\n",
       "      <td>0.265745</td>\n",
       "      <td>-0.087371</td>\n",
       "      <td>0.004455</td>\n",
       "      <td>-0.026561</td>\n",
       "    </tr>\n",
       "    <tr>\n",
       "      <th>284805</th>\n",
       "      <td>0</td>\n",
       "      <td>10.00</td>\n",
       "      <td>172788.0</td>\n",
       "      <td>-0.240440</td>\n",
       "      <td>0.530483</td>\n",
       "      <td>0.702510</td>\n",
       "      <td>0.689799</td>\n",
       "      <td>-0.377961</td>\n",
       "      <td>0.623708</td>\n",
       "      <td>-0.686180</td>\n",
       "      <td>...</td>\n",
       "      <td>2.897849</td>\n",
       "      <td>0.127434</td>\n",
       "      <td>0.265245</td>\n",
       "      <td>0.800049</td>\n",
       "      <td>-0.163298</td>\n",
       "      <td>0.123205</td>\n",
       "      <td>-0.569159</td>\n",
       "      <td>0.546668</td>\n",
       "      <td>0.108821</td>\n",
       "      <td>0.104533</td>\n",
       "    </tr>\n",
       "    <tr>\n",
       "      <th>284806</th>\n",
       "      <td>0</td>\n",
       "      <td>217.00</td>\n",
       "      <td>172792.0</td>\n",
       "      <td>-0.533413</td>\n",
       "      <td>-0.189733</td>\n",
       "      <td>0.703337</td>\n",
       "      <td>-0.506271</td>\n",
       "      <td>-0.012546</td>\n",
       "      <td>-0.649617</td>\n",
       "      <td>1.577006</td>\n",
       "      <td>...</td>\n",
       "      <td>-0.256117</td>\n",
       "      <td>0.382948</td>\n",
       "      <td>0.261057</td>\n",
       "      <td>0.643078</td>\n",
       "      <td>0.376777</td>\n",
       "      <td>0.008797</td>\n",
       "      <td>-0.473649</td>\n",
       "      <td>-0.818267</td>\n",
       "      <td>-0.002415</td>\n",
       "      <td>0.013649</td>\n",
       "    </tr>\n",
       "  </tbody>\n",
       "</table>\n",
       "<p>284807 rows × 31 columns</p>\n",
       "</div>"
      ],
      "text/plain": [
       "        Class  Amount      Time         V1         V2        V3        V4  \\\n",
       "0           0  149.62       0.0  -1.359807  -0.072781  2.536347  1.378155   \n",
       "1           0    2.69       0.0   1.191857   0.266151  0.166480  0.448154   \n",
       "2           0  378.66       1.0  -1.358354  -1.340163  1.773209  0.379780   \n",
       "3           0  123.50       1.0  -0.966272  -0.185226  1.792993 -0.863291   \n",
       "4           0   69.99       2.0  -1.158233   0.877737  1.548718  0.403034   \n",
       "...       ...     ...       ...        ...        ...       ...       ...   \n",
       "284802      0    0.77  172786.0 -11.881118  10.071785 -9.834783 -2.066656   \n",
       "284803      0   24.79  172787.0  -0.732789  -0.055080  2.035030 -0.738589   \n",
       "284804      0   67.88  172788.0   1.919565  -0.301254 -3.249640 -0.557828   \n",
       "284805      0   10.00  172788.0  -0.240440   0.530483  0.702510  0.689799   \n",
       "284806      0  217.00  172792.0  -0.533413  -0.189733  0.703337 -0.506271   \n",
       "\n",
       "              V5        V6        V7  ...       V19       V20       V21  \\\n",
       "0      -0.338321  0.462388  0.239599  ...  0.403993  0.251412 -0.018307   \n",
       "1       0.060018 -0.082361 -0.078803  ... -0.145783 -0.069083 -0.225775   \n",
       "2      -0.503198  1.800499  0.791461  ... -2.261857  0.524980  0.247998   \n",
       "3      -0.010309  1.247203  0.237609  ... -1.232622 -0.208038 -0.108300   \n",
       "4      -0.407193  0.095921  0.592941  ...  0.803487  0.408542 -0.009431   \n",
       "...          ...       ...       ...  ...       ...       ...       ...   \n",
       "284802 -5.364473 -2.606837 -4.918215  ... -0.682920  1.475829  0.213454   \n",
       "284803  0.868229  1.058415  0.024330  ... -1.545556  0.059616  0.214205   \n",
       "284804  2.630515  3.031260 -0.296827  ... -0.577252  0.001396  0.232045   \n",
       "284805 -0.377961  0.623708 -0.686180  ...  2.897849  0.127434  0.265245   \n",
       "284806 -0.012546 -0.649617  1.577006  ... -0.256117  0.382948  0.261057   \n",
       "\n",
       "             V22       V23       V24       V25       V26       V27       V28  \n",
       "0       0.277838 -0.110474  0.066928  0.128539 -0.189115  0.133558 -0.021053  \n",
       "1      -0.638672  0.101288 -0.339846  0.167170  0.125895 -0.008983  0.014724  \n",
       "2       0.771679  0.909412 -0.689281 -0.327642 -0.139097 -0.055353 -0.059752  \n",
       "3       0.005274 -0.190321 -1.175575  0.647376 -0.221929  0.062723  0.061458  \n",
       "4       0.798278 -0.137458  0.141267 -0.206010  0.502292  0.219422  0.215153  \n",
       "...          ...       ...       ...       ...       ...       ...       ...  \n",
       "284802  0.111864  1.014480 -0.509348  1.436807  0.250034  0.943651  0.823731  \n",
       "284803  0.924384  0.012463 -1.016226 -0.606624 -0.395255  0.068472 -0.053527  \n",
       "284804  0.578229 -0.037501  0.640134  0.265745 -0.087371  0.004455 -0.026561  \n",
       "284805  0.800049 -0.163298  0.123205 -0.569159  0.546668  0.108821  0.104533  \n",
       "284806  0.643078  0.376777  0.008797 -0.473649 -0.818267 -0.002415  0.013649  \n",
       "\n",
       "[284807 rows x 31 columns]"
      ]
     },
     "execution_count": 50,
     "metadata": {},
     "output_type": "execute_result"
    }
   ],
   "source": [
    "df"
   ]
  },
  {
   "cell_type": "markdown",
   "id": "d663b502-788f-45a6-85ee-21219813e204",
   "metadata": {},
   "source": [
    "We need to explore in a historical perspective the number of transactions which are fraudulent."
   ]
  },
  {
   "cell_type": "code",
   "execution_count": 51,
   "id": "5a074197-ce00-44cd-8640-6f5ab0ce2c25",
   "metadata": {
    "execution": {
     "iopub.execute_input": "2023-10-14T13:32:54.733477Z",
     "iopub.status.busy": "2023-10-14T13:32:54.732476Z",
     "iopub.status.idle": "2023-10-14T13:32:54.757058Z",
     "shell.execute_reply": "2023-10-14T13:32:54.754062Z",
     "shell.execute_reply.started": "2023-10-14T13:32:54.733477Z"
    }
   },
   "outputs": [
    {
     "data": {
      "text/plain": [
       "Class\n",
       "0    284315\n",
       "1       492\n",
       "Name: count, dtype: int64"
      ]
     },
     "execution_count": 51,
     "metadata": {},
     "output_type": "execute_result"
    }
   ],
   "source": [
    "df['Class'].value_counts()"
   ]
  },
  {
   "cell_type": "markdown",
   "id": "79e5de1e-6519-4b00-925f-e599ad56d599",
   "metadata": {},
   "source": [
    "* This is a severe class imbalance!\n",
    "* When training a model, it will be biased towards the majority class, while neglecting to pick up patterns in the minority class.\n",
    "* We can handle the imbalance in a number of ways\n",
    "    * Up sample the minority class at training time with synthetic data\n",
    "    * Down sample the majority class\n",
    "    * Choose and approach better suited to highly imbalanced data e.g anomaly detection algorithms\n",
    "    * Rebalance the classes at training time using the algorithm's class_weight hyperparameter to penalize the loss function more for misclassifications made on the minority class"
   ]
  },
  {
   "cell_type": "markdown",
   "id": "3eba8cc0-1000-49bc-b7fd-1e15a0227bbb",
   "metadata": {},
   "source": [
    "## Sampling with a class imbalance"
   ]
  },
  {
   "cell_type": "markdown",
   "id": "9635014f-cbde-400f-8465-5f64339afd2c",
   "metadata": {
    "execution": {
     "iopub.execute_input": "2023-10-14T13:44:47.413423Z",
     "iopub.status.busy": "2023-10-14T13:44:47.411419Z",
     "iopub.status.idle": "2023-10-14T13:44:47.429566Z",
     "shell.execute_reply": "2023-10-14T13:44:47.424889Z",
     "shell.execute_reply.started": "2023-10-14T13:44:47.413423Z"
    }
   },
   "source": [
    "Fraud detection is typically a supervised, binary classification problem."
   ]
  },
  {
   "cell_type": "code",
   "execution_count": 53,
   "id": "1380c270-c632-4461-876d-bdb678f0ea5d",
   "metadata": {
    "execution": {
     "iopub.execute_input": "2023-10-14T13:46:23.308327Z",
     "iopub.status.busy": "2023-10-14T13:46:23.307225Z",
     "iopub.status.idle": "2023-10-14T13:46:23.361039Z",
     "shell.execute_reply": "2023-10-14T13:46:23.359764Z",
     "shell.execute_reply.started": "2023-10-14T13:46:23.308327Z"
    }
   },
   "outputs": [],
   "source": [
    "target = df['Class']\n",
    "values = df.drop(['Class', 'Amount', 'Time'], axis = 1)"
   ]
  },
  {
   "cell_type": "markdown",
   "id": "772e3b50-3218-4f06-970f-17da79686ff1",
   "metadata": {
    "execution": {
     "iopub.execute_input": "2023-10-14T13:46:30.267437Z",
     "iopub.status.busy": "2023-10-14T13:46:30.266398Z",
     "iopub.status.idle": "2023-10-14T13:46:30.282203Z",
     "shell.execute_reply": "2023-10-14T13:46:30.280203Z",
     "shell.execute_reply.started": "2023-10-14T13:46:30.267437Z"
    },
    "tags": []
   },
   "source": [
    "### Model validation\n",
    "* At the beggining, let's split the data into a train and test set."
   ]
  },
  {
   "cell_type": "code",
   "execution_count": 56,
   "id": "097647fb-5897-4f92-8da9-d54c94d57ee5",
   "metadata": {
    "execution": {
     "iopub.execute_input": "2023-10-14T13:48:23.929290Z",
     "iopub.status.busy": "2023-10-14T13:48:23.928295Z",
     "iopub.status.idle": "2023-10-14T13:48:28.215631Z",
     "shell.execute_reply": "2023-10-14T13:48:28.211815Z",
     "shell.execute_reply.started": "2023-10-14T13:48:23.929290Z"
    }
   },
   "outputs": [],
   "source": [
    "from sklearn.model_selection import train_test_split"
   ]
  },
  {
   "cell_type": "code",
   "execution_count": 62,
   "id": "38ea7374-8c86-4de3-8fb9-d0f89b84e2cb",
   "metadata": {
    "execution": {
     "iopub.execute_input": "2023-10-14T13:56:32.737433Z",
     "iopub.status.busy": "2023-10-14T13:56:32.736827Z",
     "iopub.status.idle": "2023-10-14T13:56:33.049545Z",
     "shell.execute_reply": "2023-10-14T13:56:33.044778Z",
     "shell.execute_reply.started": "2023-10-14T13:56:32.737433Z"
    },
    "tags": []
   },
   "outputs": [],
   "source": [
    "# If we do not specify stratification, all our fraudulent data can end up in the training set and node in the testing set.\n",
    "# For example if 1% of the data is fraudulent, stratifying will retain the same proportions accross the training and testing set.\n",
    "X_train, X_test, y_train, y_test = train_test_split(values, target, test_size = 0.2, random_state = 42, stratify = target)"
   ]
  },
  {
   "cell_type": "code",
   "execution_count": 63,
   "id": "acbbc72b-6881-4c23-9b30-1c04d44971bb",
   "metadata": {
    "execution": {
     "iopub.execute_input": "2023-10-14T13:58:46.540380Z",
     "iopub.status.busy": "2023-10-14T13:58:46.539353Z",
     "iopub.status.idle": "2023-10-14T13:58:46.561349Z",
     "shell.execute_reply": "2023-10-14T13:58:46.559354Z",
     "shell.execute_reply.started": "2023-10-14T13:58:46.540380Z"
    }
   },
   "outputs": [
    {
     "name": "stdout",
     "output_type": "stream",
     "text": [
      "Fraud in training set: 394\n",
      "Fraud in testing set: 98\n"
     ]
    }
   ],
   "source": [
    "print(f\"Fraud in training set: {len(np.where(y_train == 1)[0])}\")\n",
    "print(f\"Fraud in testing set: {len(np.where(y_test == 1)[0])}\")"
   ]
  },
  {
   "cell_type": "markdown",
   "id": "ee489e48-ddc5-4373-ad8d-bc2de094f1ce",
   "metadata": {},
   "source": [
    "### Baseline logistic regression model using scikit-learn"
   ]
  },
  {
   "cell_type": "code",
   "execution_count": 66,
   "id": "584f8064-c358-451a-bdd7-81081449ca01",
   "metadata": {
    "execution": {
     "iopub.execute_input": "2023-10-14T14:03:16.052519Z",
     "iopub.status.busy": "2023-10-14T14:03:16.051555Z",
     "iopub.status.idle": "2023-10-14T14:03:19.007229Z",
     "shell.execute_reply": "2023-10-14T14:03:19.005230Z",
     "shell.execute_reply.started": "2023-10-14T14:03:16.052519Z"
    },
    "tags": []
   },
   "outputs": [
    {
     "data": {
      "text/html": [
       "<style>#sk-container-id-1 {color: black;}#sk-container-id-1 pre{padding: 0;}#sk-container-id-1 div.sk-toggleable {background-color: white;}#sk-container-id-1 label.sk-toggleable__label {cursor: pointer;display: block;width: 100%;margin-bottom: 0;padding: 0.3em;box-sizing: border-box;text-align: center;}#sk-container-id-1 label.sk-toggleable__label-arrow:before {content: \"▸\";float: left;margin-right: 0.25em;color: #696969;}#sk-container-id-1 label.sk-toggleable__label-arrow:hover:before {color: black;}#sk-container-id-1 div.sk-estimator:hover label.sk-toggleable__label-arrow:before {color: black;}#sk-container-id-1 div.sk-toggleable__content {max-height: 0;max-width: 0;overflow: hidden;text-align: left;background-color: #f0f8ff;}#sk-container-id-1 div.sk-toggleable__content pre {margin: 0.2em;color: black;border-radius: 0.25em;background-color: #f0f8ff;}#sk-container-id-1 input.sk-toggleable__control:checked~div.sk-toggleable__content {max-height: 200px;max-width: 100%;overflow: auto;}#sk-container-id-1 input.sk-toggleable__control:checked~label.sk-toggleable__label-arrow:before {content: \"▾\";}#sk-container-id-1 div.sk-estimator input.sk-toggleable__control:checked~label.sk-toggleable__label {background-color: #d4ebff;}#sk-container-id-1 div.sk-label input.sk-toggleable__control:checked~label.sk-toggleable__label {background-color: #d4ebff;}#sk-container-id-1 input.sk-hidden--visually {border: 0;clip: rect(1px 1px 1px 1px);clip: rect(1px, 1px, 1px, 1px);height: 1px;margin: -1px;overflow: hidden;padding: 0;position: absolute;width: 1px;}#sk-container-id-1 div.sk-estimator {font-family: monospace;background-color: #f0f8ff;border: 1px dotted black;border-radius: 0.25em;box-sizing: border-box;margin-bottom: 0.5em;}#sk-container-id-1 div.sk-estimator:hover {background-color: #d4ebff;}#sk-container-id-1 div.sk-parallel-item::after {content: \"\";width: 100%;border-bottom: 1px solid gray;flex-grow: 1;}#sk-container-id-1 div.sk-label:hover label.sk-toggleable__label {background-color: #d4ebff;}#sk-container-id-1 div.sk-serial::before {content: \"\";position: absolute;border-left: 1px solid gray;box-sizing: border-box;top: 0;bottom: 0;left: 50%;z-index: 0;}#sk-container-id-1 div.sk-serial {display: flex;flex-direction: column;align-items: center;background-color: white;padding-right: 0.2em;padding-left: 0.2em;position: relative;}#sk-container-id-1 div.sk-item {position: relative;z-index: 1;}#sk-container-id-1 div.sk-parallel {display: flex;align-items: stretch;justify-content: center;background-color: white;position: relative;}#sk-container-id-1 div.sk-item::before, #sk-container-id-1 div.sk-parallel-item::before {content: \"\";position: absolute;border-left: 1px solid gray;box-sizing: border-box;top: 0;bottom: 0;left: 50%;z-index: -1;}#sk-container-id-1 div.sk-parallel-item {display: flex;flex-direction: column;z-index: 1;position: relative;background-color: white;}#sk-container-id-1 div.sk-parallel-item:first-child::after {align-self: flex-end;width: 50%;}#sk-container-id-1 div.sk-parallel-item:last-child::after {align-self: flex-start;width: 50%;}#sk-container-id-1 div.sk-parallel-item:only-child::after {width: 0;}#sk-container-id-1 div.sk-dashed-wrapped {border: 1px dashed gray;margin: 0 0.4em 0.5em 0.4em;box-sizing: border-box;padding-bottom: 0.4em;background-color: white;}#sk-container-id-1 div.sk-label label {font-family: monospace;font-weight: bold;display: inline-block;line-height: 1.2em;}#sk-container-id-1 div.sk-label-container {text-align: center;}#sk-container-id-1 div.sk-container {/* jupyter's `normalize.less` sets `[hidden] { display: none; }` but bootstrap.min.css set `[hidden] { display: none !important; }` so we also need the `!important` here to be able to override the default hidden behavior on the sphinx rendered scikit-learn.org. See: https://github.com/scikit-learn/scikit-learn/issues/21755 */display: inline-block !important;position: relative;}#sk-container-id-1 div.sk-text-repr-fallback {display: none;}</style><div id=\"sk-container-id-1\" class=\"sk-top-container\"><div class=\"sk-text-repr-fallback\"><pre>LogisticRegression()</pre><b>In a Jupyter environment, please rerun this cell to show the HTML representation or trust the notebook. <br />On GitHub, the HTML representation is unable to render, please try loading this page with nbviewer.org.</b></div><div class=\"sk-container\" hidden><div class=\"sk-item\"><div class=\"sk-estimator sk-toggleable\"><input class=\"sk-toggleable__control sk-hidden--visually\" id=\"sk-estimator-id-1\" type=\"checkbox\" checked><label for=\"sk-estimator-id-1\" class=\"sk-toggleable__label sk-toggleable__label-arrow\">LogisticRegression</label><div class=\"sk-toggleable__content\"><pre>LogisticRegression()</pre></div></div></div></div></div>"
      ],
      "text/plain": [
       "LogisticRegression()"
      ]
     },
     "execution_count": 66,
     "metadata": {},
     "output_type": "execute_result"
    }
   ],
   "source": [
    "from sklearn.linear_model import LogisticRegression\n",
    "\n",
    "model = LogisticRegression()\n",
    "model.fit(X_train, y_train)"
   ]
  },
  {
   "cell_type": "markdown",
   "id": "375d1633-2a50-4a46-9cfc-d446e476e493",
   "metadata": {},
   "source": [
    "Our data is still highly imbalanced and this model will predict mostly 0's."
   ]
  },
  {
   "cell_type": "code",
   "execution_count": 70,
   "id": "a952f648-bfb9-4573-ae31-18ba60fbf426",
   "metadata": {
    "execution": {
     "iopub.execute_input": "2023-10-14T14:05:39.425995Z",
     "iopub.status.busy": "2023-10-14T14:05:39.424997Z",
     "iopub.status.idle": "2023-10-14T14:05:39.454001Z",
     "shell.execute_reply": "2023-10-14T14:05:39.451929Z",
     "shell.execute_reply.started": "2023-10-14T14:05:39.425995Z"
    },
    "tags": []
   },
   "outputs": [
    {
     "data": {
      "text/plain": [
       "array([0, 0, 0, ..., 0, 0, 0], dtype=int64)"
      ]
     },
     "execution_count": 70,
     "metadata": {},
     "output_type": "execute_result"
    }
   ],
   "source": [
    "y_pred = model.predict(X_test)\n",
    "y_pred"
   ]
  },
  {
   "cell_type": "markdown",
   "id": "b8301366-1f5b-4e65-b5ba-09dfb23f2213",
   "metadata": {},
   "source": [
    "### Plotting a confusion matrix"
   ]
  },
  {
   "cell_type": "markdown",
   "id": "d8e603b4-cdc8-4b40-839f-a50652a1abb3",
   "metadata": {},
   "source": [
    "* Acts as a cross section between the ground thrith and the predictions that the trained model makes.\n",
    "* In binary classification context, the confusion matrix reports on the classification performance of the model\n",
    "    * True negatives - actually non-fraudulent and correctly classified as non-fraudulent\n",
    "    * False positives - actually non-fraudulent but incorectly classified as fraud.\n",
    "    * False negatives - actually fraud but incorrectly classified as non-fraudulent\n",
    "    * True positives - actually fraud and correctly classified\n",
    "* Since we are detecting fraud the \"positive\" relates to fraud while \"negative\" refers to non-fraudulent."
   ]
  },
  {
   "cell_type": "code",
   "execution_count": 73,
   "id": "e893e62d-8baa-4ae8-a123-abab3c6e7f67",
   "metadata": {
    "execution": {
     "iopub.execute_input": "2023-10-14T14:21:07.824316Z",
     "iopub.status.busy": "2023-10-14T14:21:07.823314Z",
     "iopub.status.idle": "2023-10-14T14:21:07.849082Z",
     "shell.execute_reply": "2023-10-14T14:21:07.848066Z",
     "shell.execute_reply.started": "2023-10-14T14:21:07.824316Z"
    },
    "tags": []
   },
   "outputs": [],
   "source": [
    "from sklearn.metrics import confusion_matrix\n",
    "matrix = confusion_matrix(y_test, y_pred)"
   ]
  },
  {
   "cell_type": "code",
   "execution_count": 75,
   "id": "482e07f2-01ed-40cb-9b24-6934fbda6622",
   "metadata": {
    "execution": {
     "iopub.execute_input": "2023-10-14T14:21:13.397478Z",
     "iopub.status.busy": "2023-10-14T14:21:13.396482Z",
     "iopub.status.idle": "2023-10-14T14:21:13.753861Z",
     "shell.execute_reply": "2023-10-14T14:21:13.750857Z",
     "shell.execute_reply.started": "2023-10-14T14:21:13.397478Z"
    },
    "tags": []
   },
   "outputs": [
    {
     "data": {
      "image/png": "[encoded data removed]",
      "text/plain": [
       "<Figure size 432x432 with 2 Axes>"
      ]
     },
     "metadata": {
      "needs_background": "light"
     },
     "output_type": "display_data"
    }
   ],
   "source": [
    "import seaborn as sns\n",
    "\n",
    "labels = [\"Normal\", \"Fraud\"]\n",
    "plt.figure(figsize = (6,6))\n",
    "sns.heatmap(matrix, xticklabels = labels, yticklabels = labels, annot = True, fmt = \"d\")\n",
    "plt.title(\"Confusion matrix\")\n",
    "plt.ylabel(\"True class\")\n",
    "plt.xlabel(\"Predicted class\")\n",
    "plt.show()"
   ]
  },
  {
   "cell_type": "code",
   "execution_count": null,
   "id": "2d88bdbd-e9e6-4a87-8ddb-382cd9f1d2e4",
   "metadata": {},
   "outputs": [],
   "source": []
  }
 ],
 "metadata": {
  "kernelspec": {
   "display_name": "llm_env",
   "language": "python",
   "name": "llm_env"
  },
  "language_info": {
   "codemirror_mode": {
    "name": "ipython",
    "version": 3
   },
   "file_extension": ".py",
   "mimetype": "text/x-python",
   "name": "python",
   "nbconvert_exporter": "python",
   "pygments_lexer": "ipython3",
   "version": "3.8.18"
  }
 },
 "nbformat": 4,
 "nbformat_minor": 5
}
